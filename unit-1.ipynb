{
 "cells": [
  {
   "cell_type": "markdown",
   "metadata": {},
   "source": [
    "# Unit 1"
   ]
  },
  {
   "cell_type": "code",
   "execution_count": 3,
   "metadata": {},
   "outputs": [
    {
     "name": "stdout",
     "output_type": "stream",
     "text": [
      "30\n"
     ]
    }
   ],
   "source": [
    "a = 10\n",
    "b =20\n",
    "c = a+b\n",
    "print(c)                                                                                                              "
   ]
  },
  {
   "cell_type": "code",
   "execution_count": 7,
   "metadata": {},
   "outputs": [
    {
     "name": "stdout",
     "output_type": "stream",
     "text": [
      "<class 'bool'>\n"
     ]
    }
   ],
   "source": [
    "ca10h =10\n",
    "# 10kh= 50\n",
    "DEF = True\n",
    "print(type(DEF))"
   ]
  },
  {
   "cell_type": "code",
   "execution_count": 27,
   "metadata": {},
   "outputs": [
    {
     "name": "stdout",
     "output_type": "stream",
     "text": [
      "3\n",
      "5\n",
      "7\n",
      "9\n"
     ]
    }
   ],
   "source": [
    "for i in range(3,10,2):\n",
    "    print(i) "
   ]
  },
  {
   "cell_type": "code",
   "execution_count": 32,
   "metadata": {
    "scrolled": true
   },
   "outputs": [
    {
     "data": {
      "text/plain": [
       "True"
      ]
     },
     "execution_count": 32,
     "metadata": {},
     "output_type": "execute_result"
    }
   ],
   "source": [
    "bool(1)"
   ]
  },
  {
   "cell_type": "code",
   "execution_count": 15,
   "metadata": {},
   "outputs": [
    {
     "data": {
      "text/plain": [
       "\"'abcdefg\\nhijk\\nlmnop\\nqr st uvwxyz\""
      ]
     },
     "execution_count": 15,
     "metadata": {},
     "output_type": "execute_result"
    }
   ],
   "source": [
    "string = \"\"\"abcdefg\n",
    "hijk\n",
    "lmnop\n",
    "qr st uvwxyz\"\"\"\n",
    "string\n",
    "\n",
    "# print(string)"
   ]
  },
  {
   "cell_type": "code",
   "execution_count": 24,
   "metadata": {},
   "outputs": [
    {
     "name": "stdout",
     "output_type": "stream",
     "text": [
      "<class 'float'>\n",
      "<class 'float'>\n",
      "<class 'float'>\n"
     ]
    }
   ],
   "source": [
    "x = 36e3\n",
    "y = 52262.2\n",
    "z = -525452544.3\n",
    "print(type(x))\n",
    "print(type(y))\n",
    "print(type(z))"
   ]
  },
  {
   "cell_type": "code",
   "execution_count": 27,
   "metadata": {},
   "outputs": [
    {
     "name": "stdout",
     "output_type": "stream",
     "text": [
      "15\n",
      "585\n",
      "4369\n"
     ]
    }
   ],
   "source": [
    "a = 0b1111\n",
    "print(a)\n",
    "\n",
    "a = 0o1111\n",
    "print(a)\n",
    "\n",
    "a = 0x1111\n",
    "print(a)"
   ]
  },
  {
   "cell_type": "code",
   "execution_count": 33,
   "metadata": {},
   "outputs": [
    {
     "data": {
      "text/plain": [
       "'0b10001'"
      ]
     },
     "execution_count": 33,
     "metadata": {},
     "output_type": "execute_result"
    }
   ],
   "source": [
    "bin(15)\n",
    "bin(0o11)\n",
    "bin(0x11)"
   ]
  },
  {
   "cell_type": "code",
   "execution_count": 38,
   "metadata": {},
   "outputs": [
    {
     "data": {
      "text/plain": [
       "'0o17'"
      ]
     },
     "execution_count": 38,
     "metadata": {},
     "output_type": "execute_result"
    }
   ],
   "source": [
    "oct(15)\n",
    "oct(0x11)\n",
    "oct(0b11)"
   ]
  },
  {
   "cell_type": "code",
   "execution_count": 41,
   "metadata": {},
   "outputs": [
    {
     "name": "stdout",
     "output_type": "stream",
     "text": [
      "0xf\n",
      "0x3\n",
      "0x9\n"
     ]
    }
   ],
   "source": [
    "print(hex(15))\n",
    "print(hex(0b11))\n",
    "print(hex(0o11))"
   ]
  },
  {
   "cell_type": "markdown",
   "metadata": {},
   "source": [
    "# Sequence type (tuple,list) "
   ]
  },
  {
   "cell_type": "code",
   "execution_count": 50,
   "metadata": {},
   "outputs": [
    {
     "name": "stdout",
     "output_type": "stream",
     "text": [
      "['apple', 'banana', 'cherry']\n",
      "['apple,', 2, 1, True, False]\n",
      "<class 'list'>\n",
      "<class 'list'>\n",
      "['strawberry', 'banana', 'cherry']\n",
      "('apple', 'banana', 'cherry')\n",
      "('apple', 1, 3)\n",
      "<class 'tuple'>\n",
      "<class 'tuple'>\n"
     ]
    }
   ],
   "source": [
    "list1 = [\"apple\",\"banana\", \"cherry\"]\n",
    "print(list1)\n",
    "\n",
    "list2=[\"apple,\",2,1,True,False]\n",
    "print(list2)\n",
    "\n",
    "print(type(list1))\n",
    "print(type(list2))\n",
    "\n",
    "list1[0] = \"strawberry\"\n",
    "print(list1)\n",
    "\n",
    "#changable, mutable , allowed duplicates , indexed\n",
    "\n",
    "#TUPLE\n",
    "\n",
    "my_type = (\"apple\" ,\"banana\" ,\"cherry\")\n",
    "print(my_type)\n",
    "\n",
    "my_type1= (\"apple\" ,1,3)\n",
    "print(my_type1)\n",
    "\n",
    "\n",
    "print(type(my_type))\n",
    "print(type(my_type1))\n",
    "\n",
    "\n",
    "#not changable , inmutable , allowed duplicates , indexed\n",
    "# my_type[0] = \"strawberry\"\n",
    "\n",
    "# print(my_type)\n",
    "\n",
    "\n"
   ]
  },
  {
   "cell_type": "markdown",
   "metadata": {},
   "source": [
    "# Mapping type : dict\n"
   ]
  },
  {
   "cell_type": "code",
   "execution_count": 56,
   "metadata": {},
   "outputs": [
    {
     "name": "stdout",
     "output_type": "stream",
     "text": [
      "Aman\n",
      "Aman\n",
      "Dhairya\n",
      "Manasvi\n"
     ]
    }
   ],
   "source": [
    "#Orderd , changeable , allowed duplicates (but it overrides, last one will be the final one) \n",
    "d = {10:'lucky' , 20:'Aman' , 30:'Dhairya'}\n",
    "print(d[10])\n",
    "print(d[20])\n",
    "print(d[30])\n",
    "\n",
    "d[10] = 'Manasvi'\n",
    "print(d[10])"
   ]
  },
  {
   "cell_type": "markdown",
   "metadata": {},
   "source": [
    "# Set type"
   ]
  },
  {
   "cell_type": "code",
   "execution_count": 1,
   "metadata": {},
   "outputs": [
    {
     "name": "stdout",
     "output_type": "stream",
     "text": [
      "{1, 2, 3, 4, 5}\n",
      "{'banana', 'cherry', 'apple'}\n"
     ]
    }
   ],
   "source": [
    "#it only print uniqe value it will not print duplicates , unorder, unindexed\n",
    "x = {1,2,3,4,5,2}\n",
    "print(x)\n",
    " \n",
    "y = {'banana','apple','banana','cherry'}\n",
    "print(y)"
   ]
  },
  {
   "cell_type": "markdown",
   "metadata": {},
   "source": [
    "# Frozenset\n"
   ]
  },
  {
   "cell_type": "code",
   "execution_count": 75,
   "metadata": {},
   "outputs": [
    {
     "name": "stdout",
     "output_type": "stream",
     "text": [
      "frozenset({'banana', 'apple', 'vherryu'})\n",
      "{'allpam'}\n"
     ]
    }
   ],
   "source": [
    "list = ['apple','banana','vherryu']\n",
    "y = frozenset(list)\n",
    "print(y)\n"
   ]
  },
  {
   "cell_type": "markdown",
   "metadata": {},
   "source": [
    "# Boolean type"
   ]
  },
  {
   "cell_type": "code",
   "execution_count": 86,
   "metadata": {},
   "outputs": [
    {
     "name": "stdout",
     "output_type": "stream",
     "text": [
      "False\n",
      "True\n",
      "True\n",
      "False\n",
      "True\n",
      "False\n",
      "False\n"
     ]
    }
   ],
   "source": [
    "print(bool(0))\n",
    "print(bool(1))\n",
    "print(bool(\"apple\"))\n",
    "print(bool(\"\"))\n",
    "print(20 > 8)\n",
    "print(20<8)\n",
    "print(20 == 8)"
   ]
  },
  {
   "cell_type": "markdown",
   "metadata": {},
   "source": [
    "# Reserved keyword \n",
    "  -33/35\n",
    "  \n",
    "  True      | while    |raise \n",
    "False     | del\n",
    "None      | with      many more...\n",
    "and       | for\n",
    "or        | in\n",
    "not       | break\n",
    "is        | continue\n",
    "if        | return\n",
    "elif      | yield\n",
    "else      | try\n",
    "nonlocal  | except\n",
    "lambada   | finally"
   ]
  },
  {
   "cell_type": "markdown",
   "metadata": {},
   "source": [
    "# Variables"
   ]
  },
  {
   "cell_type": "code",
   "execution_count": 87,
   "metadata": {},
   "outputs": [
    {
     "name": "stdout",
     "output_type": "stream",
     "text": [
      "7\n",
      "7\n",
      "7.0\n"
     ]
    }
   ],
   "source": [
    "x = 7\n",
    "y = str(7)\n",
    "z= float(7)\n",
    "\n",
    "print(x)\n",
    "print(y)\n",
    "print(z)"
   ]
  },
  {
   "cell_type": "code",
   "execution_count": 93,
   "metadata": {},
   "outputs": [
    {
     "name": "stdout",
     "output_type": "stream",
     "text": [
      "<class 'tuple'>\n",
      "1\n"
     ]
    }
   ],
   "source": [
    " a= 1,2,3,4\n",
    "print(type(a))\n",
    "\n",
    "\n",
    "a,b,c,d = 1,2,3,4\n",
    "print(a)"
   ]
  },
  {
   "cell_type": "code",
   "execution_count": 97,
   "metadata": {},
   "outputs": [
    {
     "name": "stdout",
     "output_type": "stream",
     "text": [
      "Variable :  20\n"
     ]
    }
   ],
   "source": [
    "s = 20\n",
    "print(\"Variable : \" ,s)"
   ]
  },
  {
   "cell_type": "code",
   "execution_count": 98,
   "metadata": {},
   "outputs": [
    {
     "data": {
      "text/plain": [
       "'20202020202020202020'"
      ]
     },
     "execution_count": 98,
     "metadata": {},
     "output_type": "execute_result"
    }
   ],
   "source": [
    "a = 10\n",
    "b = '20'\n",
    "\n",
    "a*b"
   ]
  },
  {
   "cell_type": "markdown",
   "metadata": {},
   "source": [
    "# Global variable Vs Local variable"
   ]
  },
  {
   "cell_type": "code",
   "execution_count": 110,
   "metadata": {},
   "outputs": [
    {
     "name": "stdout",
     "output_type": "stream",
     "text": [
      "java\n",
      "java\n"
     ]
    }
   ],
   "source": [
    "a = \"python\"\n",
    "\n",
    "def test():\n",
    "    global a\n",
    "    a = \"java\"\n",
    "    print(a)\n",
    "\n",
    "test()\n",
    "print(a)"
   ]
  },
  {
   "cell_type": "markdown",
   "metadata": {},
   "source": [
    "# Reading user input"
   ]
  },
  {
   "cell_type": "code",
   "execution_count": 113,
   "metadata": {},
   "outputs": [
    {
     "name": "stdout",
     "output_type": "stream",
     "text": [
      "Enter Data : 5\n",
      "5\n"
     ]
    }
   ],
   "source": [
    " x = int(input(\"Ent er Data : \"))\n",
    " print(x)   "
   ]
  },
  {
   "cell_type": "code",
   "execution_count": 2,
   "metadata": {},
   "outputs": [
    {
     "name": "stdout",
     "output_type": "stream",
     "text": [
      "Enter 1st number : 5\n",
      "Enter 2st number : 4\n",
      "sum :  9\n"
     ]
    }
   ],
   "source": [
    "x = int(input(\"Enter 1st number : \"))\n",
    "y = int(input(\"Enter 2st number : \"))\n",
    "print(\"sum : \" , x+y)"
   ]
  },
  {
   "cell_type": "markdown",
   "metadata": {},
   "source": [
    "# Typecasting\n",
    "   "
   ]
  },
  {
   "cell_type": "code",
   "execution_count": 8,
   "metadata": {},
   "outputs": [
    {
     "name": "stdout",
     "output_type": "stream",
     "text": [
      "1\n",
      "0\n",
      "10\n",
      "15\n"
     ]
    }
   ],
   "source": [
    "int(12.96)\n",
    "print(int(True))\n",
    "print(int(False))\n",
    "print(int(\" 10\"))\n",
    "##print(int(\"10.5\"))\n",
    "print(int(0b1111))"
   ]
  },
  {
   "cell_type": "code",
   "execution_count": 12,
   "metadata": {},
   "outputs": [
    {
     "name": "stdout",
     "output_type": "stream",
     "text": [
      "10.0\n",
      "1.0\n",
      "0.0\n",
      "10.0\n",
      "10.5\n",
      "15.0\n"
     ]
    }
   ],
   "source": [
    "print(float(10))\n",
    "print(float(True))\n",
    "print(float(False))\n",
    "print(float(\" 10\"))\n",
    "print(float(\"10.5\"))\n",
    "##print(float(\"ten\"))\n",
    "print(float(0b1111))"
   ]
  },
  {
   "cell_type": "code",
   "execution_count": 18,
   "metadata": {},
   "outputs": [
    {
     "name": "stdout",
     "output_type": "stream",
     "text": [
      "False\n",
      "True\n",
      "True\n",
      "True\n",
      "True\n",
      "False\n",
      "True\n",
      "True\n",
      "False\n"
     ]
    }
   ],
   "source": [
    "print(bool(0))\n",
    "print(bool(1))\n",
    "print(bool(10))\n",
    "print(bool(10.5))\n",
    "print(bool(0.178))\n",
    "print(bool(0.0))\n",
    "print(bool(\"True\"))\n",
    "print(bool(\"False\"))\n",
    "print(bool(\"\"))"
   ]
  },
  {
   "cell_type": "code",
   "execution_count": 16,
   "metadata": {},
   "outputs": [
    {
     "name": "stdout",
     "output_type": "stream",
     "text": [
      "10\n",
      "1.0\n",
      "True\n",
      "False\n"
     ]
    }
   ],
   "source": [
    "print(str(10))\n",
    "print(str(1.0))\n",
    "print(str(True))\n",
    "print(str(False))"
   ]
  },
  {
   "cell_type": "markdown",
   "metadata": {},
   "source": [
    "# Arithmetic operators"
   ]
  },
  {
   "cell_type": "markdown",
   "metadata": {},
   "source": [
    "+ --> Addition(str -> concatenation)\n",
    "- --> Subtraction\n",
    "* --> Multiplication(str --> String multiplication or repetition)\n",
    "/ --> Divison(ans will be in float)\n",
    "% --> Modulus \n",
    "// --> Floor division (int ans)\n",
    "** --> Power or exponent"
   ]
  },
  {
   "cell_type": "code",
   "execution_count": 23,
   "metadata": {},
   "outputs": [
    {
     "name": "stdout",
     "output_type": "stream",
     "text": [
      "Enter 1st number: 10\n",
      "Enter 2nd number: 5\n",
      "Addition :  15\n",
      "Sub :  5\n",
      "Multiplication :  50\n",
      "Divide :  2.0\n",
      "Modulus :  0\n",
      "floor division :  2\n",
      "powers :  100000\n"
     ]
    }
   ],
   "source": [
    "x = int(input(\"Enter 1st number: \"))\n",
    "y = int(input(\"Enter 2nd number: \"))\n",
    "print(\"Addition : \" , x+y)\n",
    "print(\"Sub : \" , x-y)\n",
    "print(\"Multiplication : \" , x*y)\n",
    "print(\"Divide : \" , x/y)\n",
    "print(\"Modulus : \" , x%y)\n",
    "print(\"floor division : \" , x//y)\n",
    "print(\"powers : \" , x**y)"
   ]
  },
  {
   "cell_type": "markdown",
   "metadata": {},
   "source": [
    "# Python oprators\n",
    "   -- comparison or relational oprators"
   ]
  },
  {
   "cell_type": "markdown",
   "metadata": {},
   "source": [
    "> --> Greater than\n",
    "< --> Less than3\n",
    ">= --> Greater or equal\n",
    "<= --> less or equal\n",
    "== --> equals to\n",
    "!= --> not equals to"
   ]
  },
  {
   "cell_type": "code",
   "execution_count": 27,
   "metadata": {},
   "outputs": [
    {
     "name": "stdout",
     "output_type": "stream",
     "text": [
      "Enter 1st num : arman\n",
      "Enter 2nd num : aryan\n",
      "a > b is :  False\n",
      "a < b is :  True\n",
      "a >= b is :  False\n",
      "a <= b is :  True\n",
      "a == b is :  False\n",
      "a != b is :  True\n"
     ]
    }
   ],
   "source": [
    "a = (input(\"Enter 1st num : \"))\n",
    "b = (input(\"Enter 2nd num : \"))\n",
    "\n",
    "print(\"a > b is : \" , a>b)\n",
    "print(\"a < b is : \" , a<b)\n",
    "print(\"a >= b is : \" , a>=b)\n",
    "print(\"a <= b is : \" , a<=b)\n",
    "print(\"a == b is : \" , a==b)\n",
    "print(\"a != b is : \" , a!=b)\n"
   ]
  },
  {
   "cell_type": "markdown",
   "metadata": {},
   "source": [
    "# Logical oprators( and, or , not)\n",
    "   "
   ]
  },
  {
   "cell_type": "markdown",
   "metadata": {},
   "source": [
    "1. Boolean type behaviour\n",
    "2. non-boolean type behaviour"
   ]
  },
  {
   "cell_type": "markdown",
   "metadata": {},
   "source": [
    "0 means false\n",
    "non-zero true\n",
    "\n",
    "1. x and y --> if x evaluates to false then result is x otherwise result is y.\n",
    "2. x or y --> same like but ans is not in bool the true or false final ans will be"
   ]
  },
  {
   "cell_type": "markdown",
   "metadata": {},
   "source": [
    "# Ternary oprators \n",
    "    Syntax : x = first value if condition else second value "
   ]
  },
  {
   "cell_type": "code",
   "execution_count": 31,
   "metadata": {},
   "outputs": [
    {
     "name": "stdout",
     "output_type": "stream",
     "text": [
      "30\n"
     ]
    }
   ],
   "source": [
    "a,b = 30,40\n",
    "\n",
    "x = 30 if a<b else 40\n",
    "print(x)"
   ]
  },
  {
   "cell_type": "markdown",
   "metadata": {},
   "source": [
    "# Assignment operators\n",
    "    x =  10\n",
    "    x += 10\n",
    "    x -= 10\n",
    "    x *= 10\n",
    "    x /= 10\n",
    "    x %= 10\n",
    "    x **=10\n",
    "    x //= 10"
   ]
  },
  {
   "cell_type": "code",
   "execution_count": 32,
   "metadata": {},
   "outputs": [
    {
     "name": "stdout",
     "output_type": "stream",
     "text": [
      "30\n"
     ]
    }
   ],
   "source": [
    "x = 10\n",
    "x +=20\n",
    "print(x)"
   ]
  },
  {
   "cell_type": "markdown",
   "metadata": {},
   "source": [
    "# Membership Operators\n",
    "    \n",
    "    in --> Returns True if given object present in specific collection\n",
    "    not in --> if not present"
   ]
  },
  {
   "cell_type": "code",
   "execution_count": 35,
   "metadata": {},
   "outputs": [
    {
     "name": "stdout",
     "output_type": "stream",
     "text": [
      "True\n",
      "False\n"
     ]
    }
   ],
   "source": [
    "x = \" Hello learning python is very easy \"\n",
    "print(\"l\" in x)\n",
    "print(\"m\" in x)"
   ]
  },
  {
   "cell_type": "markdown",
   "metadata": {},
   "source": [
    "write a programm to find the area of a tringle "
   ]
  },
  {
   "cell_type": "code",
   "execution_count": 38,
   "metadata": {},
   "outputs": [
    {
     "name": "stdout",
     "output_type": "stream",
     "text": [
      "Enter height :5\n",
      "Enter width : 5\n",
      "Area :  12.5\n"
     ]
    }
   ],
   "source": [
    "x = int(input(\"Enter height :\"))\n",
    "y = int(input(\"Enter width : \"))\n",
    "\n",
    "print(\"Area : \",((1/2)*(x*y)))"
   ]
  },
  {
   "cell_type": "markdown",
   "metadata": {},
   "source": [
    "write a programm to find area of a circle"
   ]
  },
  {
   "cell_type": "code",
   "execution_count": 40,
   "metadata": {},
   "outputs": [
    {
     "name": "stdout",
     "output_type": "stream",
     "text": [
      "Enter Redius :2\n",
      "Area :  12.566370614359172\n"
     ]
    }
   ],
   "source": [
    "import math\n",
    "p = math.pi\n",
    "x = int(input(\"Enter Redius :\"))\n",
    "print(\"Area : \", (p*x*x))"
   ]
  },
  {
   "cell_type": "markdown",
   "metadata": {},
   "source": [
    "Write the program to convert celcius  & farenheit"
   ]
  },
  {
   "cell_type": "code",
   "execution_count": 46,
   "metadata": {},
   "outputs": [
    {
     "name": "stdout",
     "output_type": "stream",
     "text": [
      "Enter Celcius :25\n",
      "Enter Farenhit :77\n",
      "Celcius to Farenhit :  77.0\n",
      "Farenhit to Celcius :  25.0\n"
     ]
    }
   ],
   "source": [
    "x = int(input(\"Enter Celcius :\"))\n",
    "y = int(input(\"Enter Farenhit :\"))\n",
    "\n",
    "print(\"Celcius to Farenhit : \" , (x*9/5 + 32))\n",
    "print(\"Farenhit to Celcius : \" , ((y - 32) * (5/9)))"
   ]
  },
  {
   "cell_type": "markdown",
   "metadata": {},
   "source": [
    "write a program to convert days into year month day"
   ]
  },
  {
   "cell_type": "code",
   "execution_count": 61,
   "metadata": {},
   "outputs": [
    {
     "name": "stdout",
     "output_type": "stream",
     "text": [
      "Enter total days : 427\n",
      "1 Year 2 month 2 day\n"
     ]
    }
   ],
   "source": [
    "x= int(input(\"Enter total days : \"))\n",
    "\n",
    "year = x // 365\n",
    "month = (x % 365) //30\n",
    "day = ((x % 365) % 30)\n",
    "\n",
    "print(year , \"Year\", month ,\"month\" , day , \"day\")"
   ]
  },
  {
   "cell_type": "code",
   "execution_count": 1,
   "metadata": {},
   "outputs": [
    {
     "name": "stdout",
     "output_type": "stream",
     "text": [
      "False\n",
      "True\n",
      "False\n",
      "True\n"
     ]
    }
   ],
   "source": [
    "a = 20\n",
    "b = 10\n",
    "c = 30\n",
    "\n",
    "print(a>b and a>c)\n",
    "print(a>b or a>c)\n",
    "print(not a>b)\n",
    "print(not a>c)"
   ]
  },
  {
   "cell_type": "markdown",
   "metadata": {},
   "source": [
    "# Idenity operator\n"
   ]
  },
  {
   "cell_type": "code",
   "execution_count": 8,
   "metadata": {},
   "outputs": [
    {
     "name": "stdout",
     "output_type": "stream",
     "text": [
      "True\n",
      "False\n",
      "False\n"
     ]
    }
   ],
   "source": [
    "x = 5\n",
    "y = 5.3\n",
    "z = 5\n",
    "\n",
    "print(type(x) is int)\n",
    "print(type(x) is not int)\n",
    "print(x is y)"
   ]
  },
  {
   "cell_type": "code",
   "execution_count": 5,
   "metadata": {},
   "outputs": [
    {
     "name": "stdout",
     "output_type": "stream",
     "text": [
      "78125.0\n"
     ]
    }
   ],
   "source": [
    "print((5**3)**2*5/True)"
   ]
  },
  {
   "cell_type": "code",
   "execution_count": 13,
   "metadata": {},
   "outputs": [
    {
     "name": "stdout",
     "output_type": "stream",
     "text": [
      "True\n",
      "False\n",
      "False\n",
      "False\n"
     ]
    }
   ],
   "source": [
    "print(\"1\" in \"123\")\n",
    "print(\"1\" in \"123\" and \"False\" or True)\n",
    "print(True and \"False\")\n",
    "print(\"False\" or True)"
   ]
  },
  {
   "cell_type": "code",
   "execution_count": 18,
   "metadata": {},
   "outputs": [
    {
     "name": "stdout",
     "output_type": "stream",
     "text": [
      "True\n"
     ]
    }
   ],
   "source": [
    "# print(5 and False or 3/0)\n",
    "print(5 and True or 3/0)"
   ]
  },
  {
   "cell_type": "code",
   "execution_count": 19,
   "metadata": {},
   "outputs": [
    {
     "name": "stdout",
     "output_type": "stream",
     "text": [
      "0.0\n"
     ]
    }
   ],
   "source": [
    "print(7*5**2/True*False)"
   ]
  },
  {
   "cell_type": "markdown",
   "metadata": {},
   "source": [
    "wt  that given number is positive or negative using conditional oprator"
   ]
  },
  {
   "cell_type": "code",
   "execution_count": 21,
   "metadata": {},
   "outputs": [
    {
     "name": "stdout",
     "output_type": "stream",
     "text": [
      "Enter number : -2\n",
      "Negative\n"
     ]
    }
   ],
   "source": [
    "x = int(input(\"Enter number : \"))\n",
    "y= \"Positive\" if x >= 0 else \"Negative\"\n",
    "\n",
    "print(y)"
   ]
  },
  {
   "cell_type": "code",
   "execution_count": 25,
   "metadata": {},
   "outputs": [
    {
     "name": "stdout",
     "output_type": "stream",
     "text": [
      "Enter number : 24\n",
      "Even\n"
     ]
    }
   ],
   "source": [
    "# wt to odd even\n",
    "\n",
    "x = int(input(\"Enter number : \"))\n",
    "y= \"Even\" if x%2 == 0 else \"Odd\"\n",
    "print(y)"
   ]
  },
  {
   "cell_type": "code",
   "execution_count": 29,
   "metadata": {},
   "outputs": [
    {
     "name": "stdout",
     "output_type": "stream",
     "text": [
      "Enter number : 880\n",
      "500 1\n",
      "200 1\n",
      "100 1\n",
      "50  1\n",
      "20 1\n",
      "10 1\n"
     ]
    }
   ],
   "source": [
    "#wt a python p to find the number of notes againts a given amount\n",
    "\n",
    "x = int(input(\"Enter number : \"))\n",
    "print( \"500\" , (x // 500) )\n",
    "print(\"200\" ,((x%500)//200)) \n",
    "print(\"100\" , ((x%500%200) //100)) \n",
    "print(\"50 \" ,((x%500%200 % 100) //50))\n",
    "print(\"20\" ,((x%500%200 % 100 %50) //20) ) \n",
    "print(\"10\" ,((x%500%200 % 100 %50 % 20) //10))\n"
   ]
  },
  {
   "cell_type": "code",
   "execution_count": null,
   "metadata": {},
   "outputs": [],
   "source": []
  }
 ],
 "metadata": {
  "kernelspec": {
   "display_name": "Python 3",
   "language": "python",
   "name": "python3"
  },
  "language_info": {
   "codemirror_mode": {
    "name": "ipython",
    "version": 3
   },
   "file_extension": ".py",
   "mimetype": "text/x-python",
   "name": "python",
   "nbconvert_exporter": "python",
   "pygments_lexer": "ipython3",
   "version": "3.8.5"
  }
 },
 "nbformat": 4,
 "nbformat_minor": 4
}
