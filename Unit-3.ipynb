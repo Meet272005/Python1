{
 "cells": [
  {
   "cell_type": "markdown",
   "metadata": {},
   "source": [
    "# FUNCTIONS\n",
    "  1. Built in functions\n",
    "  2. user defined function(UDF)\n",
    "      "
   ]
  },
  {
   "cell_type": "markdown",
   "metadata": {},
   "source": [
    " def function-name(parameter) :\n",
    "    body of function\n",
    "    return value"
   ]
  },
  {
   "cell_type": "code",
   "execution_count": 5,
   "metadata": {},
   "outputs": [
    {
     "name": "stdout",
     "output_type": "stream",
     "text": [
      "Hello , Manasvi Good Morning!!\n",
      "Hello , Me Good Morning!!\n"
     ]
    }
   ],
   "source": [
    "def wish(name) :\n",
    "    print(\"Hello ,\", name , \"Good Morning!!\")\n",
    "    \n",
    "wish(\"Manasvi\")\n",
    "wish(\"Me\")\n",
    "\n",
    "# wish() TypeError"
   ]
  },
  {
   "cell_type": "markdown",
   "metadata": {},
   "source": [
    "# Different categories of UDF\n",
    "   1. Function with no parameter and no return type\n",
    "   2. Function with parameter and no return type\n",
    "   3. Function with parameter and return type\n",
    "   4. Function with no parameter and with return type."
   ]
  },
  {
   "cell_type": "code",
   "execution_count": 1,
   "metadata": {},
   "outputs": [
    {
     "name": "stdout",
     "output_type": "stream",
     "text": [
      "30\n"
     ]
    }
   ],
   "source": [
    "def add(a,b):\n",
    "    return(a+b)\n",
    "\n",
    "s = add(10,20)\n",
    "print(s)"
   ]
  },
  {
   "cell_type": "code",
   "execution_count": 14,
   "metadata": {},
   "outputs": [
    {
     "name": "stdout",
     "output_type": "stream",
     "text": [
      "30\n",
      "10\n",
      "200\n",
      "2.0\n",
      "(30, 10, 200, 2.0)\n"
     ]
    }
   ],
   "source": [
    "def calc(a,b):\n",
    "    sum = a+b\n",
    "    sub = a-b\n",
    "    mul = a*b\n",
    "    div = a/b\n",
    "    \n",
    "    return sum,sub,mul,div\n",
    "\n",
    "a = 20\n",
    "b = 10\n",
    "\n",
    "t = calc(a,b)\n",
    "\n",
    "for i in t :\n",
    "    print(i)\n",
    "\n",
    "print(t)"
   ]
  },
  {
   "cell_type": "code",
   "execution_count": 10,
   "metadata": {},
   "outputs": [
    {
     "name": "stdout",
     "output_type": "stream",
     "text": [
      "odd\n"
     ]
    }
   ],
   "source": [
    "def oddeven(num):\n",
    "    if num% 2 == 0:\n",
    "        return \"even\"\n",
    "    else :\n",
    "        return \"odd\"\n",
    "    \n",
    "\n",
    "print(oddeven(5))"
   ]
  },
  {
   "cell_type": "markdown",
   "metadata": {},
   "source": [
    "# Function specification\n",
    "    1. Docstring - The text between the triple quotation marks is called a docstring in python. It  is used to provide                         specification of function."
   ]
  },
  {
   "cell_type": "code",
   "execution_count": 2,
   "metadata": {},
   "outputs": [
    {
     "name": "stdout",
     "output_type": "stream",
     "text": [
      "Argument passed into x returns x squared\n"
     ]
    }
   ],
   "source": [
    "def square_number(x):\n",
    "    \"\"\"Argument passed into x returns x squared\"\"\"\n",
    "    return x*x;\n",
    "\n",
    "print(square_number.__doc__)"
   ]
  },
  {
   "cell_type": "code",
   "execution_count": 4,
   "metadata": {},
   "outputs": [
    {
     "name": "stdout",
     "output_type": "stream",
     "text": [
      "Return the sum of teo decimal numbers\n",
      "       parameter :\n",
      "           a(int): A decimal number\n",
      "           b(int) : another decimal number\n",
      "           return:>\n",
      "                 sum : sum of a and b\n"
     ]
    }
   ],
   "source": [
    "def add(a,b) :\n",
    "    \"\"\"Return the sum of teo decimal numbers\n",
    "       parameter :\n",
    "           a(int): A decimal number\n",
    "           b(int) : another decimal number\n",
    "           return:>\n",
    "                 sum : sum of a and b\"\"\"\n",
    "    sum = a+b\n",
    "    return sum\n",
    "\n",
    "\n",
    "print(add.__doc__)"
   ]
  },
  {
   "cell_type": "markdown",
   "metadata": {},
   "source": [
    "# Positional argument\n",
    "  1. Positional Argument\n",
    "  2. keyword Argument\n",
    "  "
   ]
  },
  {
   "cell_type": "code",
   "execution_count": 6,
   "metadata": {},
   "outputs": [
    {
     "name": "stdout",
     "output_type": "stream",
     "text": [
      "100\n",
      "-100\n"
     ]
    }
   ],
   "source": [
    "#positional \n",
    "def sub(a,b) :\n",
    "        print(a-b)\n",
    "        \n",
    "sub(200,100) #100\n",
    "sub(100,200) #-100"
   ]
  },
  {
   "cell_type": "code",
   "execution_count": 8,
   "metadata": {},
   "outputs": [
    {
     "name": "stdout",
     "output_type": "stream",
     "text": [
      "hello , Arman good morning\n",
      "hello , Arman good morning\n",
      "hello , arman good morning\n"
     ]
    }
   ],
   "source": [
    "#keyword\n",
    "\n",
    "def wish(name,msg):\n",
    "    print(\"hello ,\",name,msg)\n",
    " \n",
    "wish(name=\"Arman\",msg=\"good morning\")\n",
    "wish(msg=\"good morning\",name=\"Arman\")\n",
    "wish(\"arman\",msg=\"good morning\") \n",
    "#wish(name=\"Arman\",\"good morning\") #SyntaxError: positional argument follows keyword argument"
   ]
  },
  {
   "cell_type": "markdown",
   "metadata": {},
   "source": [
    "# Default Arguments\n",
    "  \n",
    "  "
   ]
  },
  {
   "cell_type": "code",
   "execution_count": 9,
   "metadata": {},
   "outputs": [
    {
     "name": "stdout",
     "output_type": "stream",
     "text": [
      "Hello , Arman Good morning\n",
      "Hello , Guest Good morning\n"
     ]
    }
   ],
   "source": [
    "def wish(name=\"Guest\"):\n",
    "    print('Hello ,', name,\"Good morning\")\n",
    "    \n",
    "wish('Arman') #Hello , Arman Good morning\n",
    "wish() #Hello , Guest Good morning"
   ]
  },
  {
   "cell_type": "markdown",
   "metadata": {},
   "source": [
    "# Variable Length Argument"
   ]
  },
  {
   "cell_type": "code",
   "execution_count": 13,
   "metadata": {},
   "outputs": [
    {
     "name": "stdout",
     "output_type": "stream",
     "text": [
      "Sum :  10\n",
      "Sum :  60\n",
      "Sum :  180\n"
     ]
    }
   ],
   "source": [
    "def fl(*n):\n",
    "    total = 0\n",
    "    for n1 in n:\n",
    "        total +=n1\n",
    "      \n",
    "    print(\"Sum : \", total)\n",
    "    \n",
    "fl(10)\n",
    "fl(10,20,30)\n",
    "fl(30,40,50,60)\n",
    "    "
   ]
  },
  {
   "cell_type": "code",
   "execution_count": 17,
   "metadata": {},
   "outputs": [
    {
     "name": "stdout",
     "output_type": "stream",
     "text": [
      "10 *\n",
      "10 *\n",
      "20\n",
      "30\n",
      "10 *\n",
      "A\n",
      "50\n",
      "b\n"
     ]
    }
   ],
   "source": [
    "def sum(n1,*s): # sum(*s,n1):sum() missing 1 required keyword-only argument: 'n1'\n",
    "    print(n1,\"*\")\n",
    "    for s1 in s:\n",
    "        print(s1)\n",
    "        \n",
    "sum(10)\n",
    "sum(10,20,30)\n",
    "sum(10,\"A\",50,\"b\")"
   ]
  },
  {
   "cell_type": "markdown",
   "metadata": {},
   "source": [
    "# Kwargs (key word argument)"
   ]
  },
  {
   "cell_type": "code",
   "execution_count": 22,
   "metadata": {},
   "outputs": [
    {
     "name": "stdout",
     "output_type": "stream",
     "text": [
      "{'m1': 200, 'm2': 300}\n",
      "m1 200\n",
      "m2 300\n"
     ]
    }
   ],
   "source": [
    "def display(**kwargs):\n",
    "    print(kwargs) #Dictionarys\n",
    "    for j,k in kwargs.items() : #kwargs.keys() -> m1,m2 : 2, kwargs.values() -> 200, 300\n",
    "        print(j,k)\n",
    "        \n",
    "display(m1= 200 , m2 = 300)        "
   ]
  },
  {
   "cell_type": "code",
   "execution_count": null,
   "metadata": {},
   "outputs": [],
   "source": []
  }
 ],
 "metadata": {
  "kernelspec": {
   "display_name": "Python 3",
   "language": "python",
   "name": "python3"
  },
  "language_info": {
   "codemirror_mode": {
    "name": "ipython",
    "version": 3
   },
   "file_extension": ".py",
   "mimetype": "text/x-python",
   "name": "python",
   "nbconvert_exporter": "python",
   "pygments_lexer": "ipython3",
   "version": "3.8.5"
  }
 },
 "nbformat": 4,
 "nbformat_minor": 4
}
