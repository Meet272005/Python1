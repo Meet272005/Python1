{
 "cells": [
  {
   "cell_type": "markdown",
   "metadata": {},
   "source": [
    "# Unit 2  conditional execution & Iteration \n",
    "    1. simple if statement \n",
    "    if condition : \n",
    "        statement"
   ]
  },
  {
   "cell_type": "code",
   "execution_count": 2,
   "metadata": {},
   "outputs": [
    {
     "name": "stdout",
     "output_type": "stream",
     "text": [
      "Enter name: arman\n",
      "how are you?\n"
     ]
    }
   ],
   "source": [
    "name = input(\"Enter name: \")\n",
    "if name == \"Arman\" :\n",
    "    print(\"Hello arman how are you!!\")\n",
    "print(\"how are you?\")    "
   ]
  },
  {
   "cell_type": "markdown",
   "metadata": {},
   "source": [
    "### 2. if-else "
   ]
  },
  {
   "cell_type": "code",
   "execution_count": 4,
   "metadata": {},
   "outputs": [
    {
     "name": "stdout",
     "output_type": "stream",
     "text": [
      "Enter name: manasvi\n",
      "hello Guest!!how are you?\n"
     ]
    }
   ],
   "source": [
    " name = input(\"Enter name: \")\n",
    "if name == \"Arman\" :\n",
    "    print(\"Hello arman how are you!!\")\n",
    "else:\n",
    "    print(\"hello Guest!!how are you?\")    "
   ]
  },
  {
   "cell_type": "markdown",
   "metadata": {},
   "source": [
    "### 3.  if-elif-else"
   ]
  },
  {
   "cell_type": "code",
   "execution_count": 16,
   "metadata": {},
   "outputs": [
    {
     "name": "stdout",
     "output_type": "stream",
     "text": [
      "Enter 1st number 11\n",
      "Enter 2nd number 12\n",
      "Enter 3rd number 12\n",
      "Biggest :  12\n"
     ]
    }
   ],
   "source": [
    "n1 = int(input(\"Enter 1st number \"))\n",
    "n2 = int(input(\"Enter 2nd number \"))\n",
    "n3 = int(input(\"Enter 3rd number \"))\n",
    "\n",
    "if n1>n2 and n1>n3 :\n",
    "    print(\"Biggest : \", n1)\n",
    "elif n2>n3 :\n",
    "     print(\"Biggest : \", n2)\n",
    "else:\n",
    "    print(\"Biggest : \", n3)"
   ]
  },
  {
   "cell_type": "markdown",
   "metadata": {},
   "source": [
    "### 4. Nested if"
   ]
  },
  {
   "cell_type": "code",
   "execution_count": 19,
   "metadata": {},
   "outputs": [
    {
     "name": "stdout",
     "output_type": "stream",
     "text": [
      "Below 10\n"
     ]
    }
   ],
   "source": [
    "x = 1\n",
    "\n",
    "if x>10 :\n",
    "    print(\"Above 10\")\n",
    "    if x>20 :\n",
    "        print(\"Above 20\")\n",
    "    else :\n",
    "        print(\"but under 20\")\n",
    "else :\n",
    "    print(\"Below 10\")"
   ]
  },
  {
   "cell_type": "markdown",
   "metadata": {},
   "source": [
    "# Iterative statements\n",
    "   1. For loop\n",
    "     1. syntax : for x in sequence :\n",
    "          body\n",
    "   2. while loop       "
   ]
  },
  {
   "cell_type": "code",
   "execution_count": 32,
   "metadata": {},
   "outputs": [
    {
     "name": "stdout",
     "output_type": "stream",
     "text": [
      "hELELELELE\n",
      "hELELELELE\n",
      "hELELELELE\n",
      "hELELELELE\n",
      "hELELELELE\n",
      "range(0, 5)\n"
     ]
    }
   ],
   "source": [
    "s =\"Manasvi\"\n",
    "for i in range(5):\n",
    "    print(\"hELELELELE\")\n",
    "    \n",
    "    \n",
    "s = range(5)\n",
    "print(s)"
   ]
  },
  {
   "cell_type": "code",
   "execution_count": 38,
   "metadata": {},
   "outputs": [
    {
     "name": "stdout",
     "output_type": "stream",
     "text": [
      "hELELELELE\n",
      "hELELELELE\n",
      "hELELELELE\n",
      "hELELELELE\n",
      "hELELELELE\n"
     ]
    }
   ],
   "source": [
    "i =0;\n",
    "while i<5 :\n",
    "     print(\"hELELELELE\")\n",
    "     i = i+1;\n",
    "    "
   ]
  },
  {
   "cell_type": "code",
   "execution_count": 40,
   "metadata": {},
   "outputs": [
    {
     "name": "stdout",
     "output_type": "stream",
     "text": [
      "Enter name : hsdjuws\n",
      "Enter name : utyased7tqw\n",
      "Enter name : Arman\n",
      "Thanks for confirmation\n"
     ]
    }
   ],
   "source": [
    "s = \" \"\n",
    "while s!= \"Arman\" :\n",
    "    s = input(\"Enter name : \")\n",
    "print(\"Thanks for confirmation\")    \n",
    "    "
   ]
  },
  {
   "cell_type": "markdown",
   "metadata": {},
   "source": [
    "## Nested loop"
   ]
  },
  {
   "cell_type": "code",
   "execution_count": 41,
   "metadata": {},
   "outputs": [
    {
     "name": "stdout",
     "output_type": "stream",
     "text": [
      "i = 0 j = 0\n",
      "i = 0 j = 1\n",
      "i = 1 j = 0\n",
      "i = 1 j = 1\n"
     ]
    }
   ],
   "source": [
    "for i in range(2) :\n",
    "    for j in range(2) :\n",
    "        print(\"i =\", i , \"j =\",j)"
   ]
  },
  {
   "cell_type": "markdown",
   "metadata": {},
   "source": [
    "## Break Statement"
   ]
  },
  {
   "cell_type": "code",
   "execution_count": 47,
   "metadata": {},
   "outputs": [
    {
     "name": "stdout",
     "output_type": "stream",
     "text": [
      "0\n",
      "1\n",
      "2\n",
      "3\n",
      "4\n",
      "5\n",
      "6\n",
      "Stop here!!\n"
     ]
    }
   ],
   "source": [
    "for i in range(10) :\n",
    "    \n",
    "    if i==7 :\n",
    "        print(\"Stop here!!\")\n",
    "        break\n",
    "    print(i)  "
   ]
  },
  {
   "cell_type": "markdown",
   "metadata": {},
   "source": [
    "## Continue\n"
   ]
  },
  {
   "cell_type": "code",
   "execution_count": 48,
   "metadata": {},
   "outputs": [
    {
     "name": "stdout",
     "output_type": "stream",
     "text": [
      "1\n",
      "3\n",
      "5\n",
      "7\n",
      "9\n"
     ]
    }
   ],
   "source": [
    "for i in range(10) :\n",
    "    if i %2==0 :\n",
    "        continue\n",
    "    print(i)    "
   ]
  },
  {
   "cell_type": "markdown",
   "metadata": {},
   "source": [
    "# Pass Statement\n",
    "   "
   ]
  },
  {
   "cell_type": "code",
   "execution_count": 49,
   "metadata": {},
   "outputs": [],
   "source": [
    " if True :\n",
    "        pass #to complete "
   ]
  },
  {
   "cell_type": "code",
   "execution_count": 52,
   "metadata": {},
   "outputs": [
    {
     "name": "stdout",
     "output_type": "stream",
     "text": [
      "Enter char...u\n",
      "vowel\n"
     ]
    }
   ],
   "source": [
    "#wap to cheack if the given chara is vowels or conso..\n",
    "\n",
    "x = input(\"Enter char...\")\n",
    "\n",
    "if x == 'a' or x =='e' or x == 'i' or x == 'o' or x == 'u' or x == \"A\" or x =='E' or x == 'I' or x == 'O' or x == 'U' :\n",
    "    print(\"vowel\")\n",
    "else :\n",
    "    print(\"not\")"
   ]
  },
  {
   "cell_type": "code",
   "execution_count": 3,
   "metadata": {},
   "outputs": [
    {
     "name": "stdout",
     "output_type": "stream",
     "text": [
      "Enter year :1900\n",
      "not a leap year\n"
     ]
    }
   ],
   "source": [
    "# wt to cheack given year is leap year or not\n",
    "\n",
    "year = int(input(\"Enter year :\"))\n",
    "\n",
    "if (year % 4 == 0 and year % 100 != 0) or (year % 400 == 0):\n",
    "    print(\"Leap year\")\n",
    "else :\n",
    "    print(\"not a leap year\")\n",
    "    "
   ]
  },
  {
   "cell_type": "code",
   "execution_count": 13,
   "metadata": {},
   "outputs": [
    {
     "name": "stdout",
     "output_type": "stream",
     "text": [
      "Enter number 1 :1\n",
      "Enter number 2 :2\n",
      "Enter opration +,-,*,/,**,//,% : *\n",
      "Multiplication :  2\n"
     ]
    }
   ],
   "source": [
    "#wt to perform arithmetic oprations according to the choices given\n",
    "\n",
    "num1 = int(input(\"Enter number 1 :\"))\n",
    "num2 = int(input(\"Enter number 2 :\"))\n",
    "\n",
    "choice = input(\"Enter opration +,-,*,/,**,//,% : \")\n",
    "\n",
    "if choice == '+' :\n",
    "    print(\"Sum : \" , num1+num2)\n",
    "elif choice == '-' :\n",
    "    print(\"Subtraction : \" , num1-num2)\n",
    "elif choice == '*' :\n",
    "    print(\"Multiplication : \" , num1*num2)    \n",
    "elif choice == '/' :\n",
    "    print(\"Division : \" , num1/num2)\n",
    "elif choice == '//' :\n",
    "    print(\"floor devision : \" , num1//num2)\n",
    "elif choice == '**' :\n",
    "    print(\"Power : \" , num1**num2)    \n",
    "elif choice == '%' :\n",
    "    print(\"Modulo: \" , num1%num2)    \n",
    "else :\n",
    "    print(\"Enter valid oprater\")"
   ]
  },
  {
   "cell_type": "code",
   "execution_count": 24,
   "metadata": {},
   "outputs": [
    {
     "name": "stdout",
     "output_type": "stream",
     "text": [
      "Enter marks of java : 52\n",
      "Enter marks of python : 85\n",
      "Enter marks of Fsd : 98\n",
      "Marks  78.33333333333333 Grade : First class\n"
     ]
    }
   ],
   "source": [
    "#wt the program to read the marks and give the grade according to condition\n",
    "\n",
    "jm = int(input(\"Enter marks of java : \"))\n",
    "pm = int(input(\"Enter marks of python : \"))\n",
    "fm = int(input(\"Enter marks of Fsd : \"))\n",
    "\n",
    "marks = (jm+pm+fm)/3\n",
    "\n",
    "\n",
    "if marks <=100 and marks >= 80 :\n",
    "    print(\"Marks \", marks,\"Grade : Distinction\")\n",
    "elif marks <=79 and marks >= 60 :\n",
    "    print(\"Marks \", marks,\"Grade : First class\")\n",
    "elif marks <=59 and marks >= 25 :\n",
    "    print(\"Marks \", marks,\"Grade : Second class\")\n",
    "elif marks <=34 and marks >= 0 :\n",
    "    print(\"Marks \", marks,\"Grade : Fail\")    \n",
    "else :\n",
    "  print('Enter valid marks!')"
   ]
  },
  {
   "cell_type": "code",
   "execution_count": 36,
   "metadata": {},
   "outputs": [
    {
     "name": "stdout",
     "output_type": "stream",
     "text": [
      "Enter total units : 250\n",
      "Bill :  1000\n"
     ]
    }
   ],
   "source": [
    "#wt a program to calculate the electricity bill based in the number of unit ender by user\n",
    "\n",
    "units = int(input(\"Enter total units : \"))\n",
    "sum1 =0\n",
    "if units <= 100 :\n",
    "    sum1 = 0\n",
    "elif units <=200 :\n",
    "    sum1 = (units-100)*5\n",
    "elif units >200 :  \n",
    "     sum1 = 500+ (units -200)*10\n",
    "    \n",
    "print(\"Bill : \" , sum1)    "
   ]
  },
  {
   "cell_type": "code",
   "execution_count": 39,
   "metadata": {},
   "outputs": [
    {
     "name": "stdout",
     "output_type": "stream",
     "text": [
      "Enter Number : 1256\n",
      "1256  is divisable\n"
     ]
    }
   ],
   "source": [
    "# wt the program to cheack wether the last degit of number is divisable by 3 or not\n",
    "\n",
    "number = int(input(\"Enter Number : \"))\n",
    "\n",
    "if (number % 10) % 3 == 0 :\n",
    "    print(number , \" is divisable\")\n",
    "else :\n",
    "       print(number , \" is not divisable\")"
   ]
  },
  {
   "cell_type": "code",
   "execution_count": 21,
   "metadata": {},
   "outputs": [
    {
     "name": "stdout",
     "output_type": "stream",
     "text": [
      "Enter  Number  : 741\n",
      "3\n",
      "4\n"
     ]
    }
   ],
   "source": [
    "# wt a program to cheack wether the number enter by user is three digit number and if number i s 3 digit then print middle number\n",
    "\n",
    "number = int(input(\"Enter  Number  : \"))\n",
    "temp = number\n",
    "digit = 0\n",
    "\n",
    "while number>0 :\n",
    "    number= number //10\n",
    "    digit += 1\n",
    "     \n",
    "    \n",
    "    \n",
    "print(digit)    \n",
    "if digit == 3 :\n",
    "    temp = temp %100\n",
    "    print(temp // 10)\n",
    "    \n",
    "else :\n",
    "    print(\"Enter three \")\n",
    "    \n"
   ]
  },
  {
   "cell_type": "code",
   "execution_count": 25,
   "metadata": {},
   "outputs": [
    {
     "name": "stdout",
     "output_type": "stream",
     "text": [
      "Enter price : 70000\n",
      "Total cost :  77000.0\n"
     ]
    }
   ],
   "source": [
    "# wt a program to accep the price and display the road tax to paid and also total\n",
    "\n",
    "\n",
    "price = int(input(\"Enter price : \"))\n",
    "\n",
    "if price > 100000 :\n",
    "    print(\"Total cost : \", (price + (price*0.15)))\n",
    "elif price > 50000 and price <= 100000 :\n",
    "    print(\"Total cost : \", (price + (price*0.10)))\n",
    "else : \n",
    "      print(\"Total cost : \", (price + (price*0.05)))\n",
    "    "
   ]
  },
  {
   "cell_type": "code",
   "execution_count": 33,
   "metadata": {},
   "outputs": [
    {
     "name": "stdout",
     "output_type": "stream",
     "text": [
      "Enter Total working days : 100\n",
      "Enter total absent days : 25\n",
      "75.0 %\n",
      "You are eligable for exam\n"
     ]
    }
   ],
   "source": [
    "# calculate the  % of class attendance , total number of working days total number of days for absent after calculating % if % is ;less than 75 then ur not aligable for exam\n",
    "\n",
    "\n",
    "wd = int(input(\"Enter Total working days : \"))\n",
    "ad = int(input(\"Enter total absent days : \"))\n",
    "\n",
    "per = ((wd - ad) / wd) *100\n",
    "print(per,\"%\")\n",
    "\n",
    "if per >= 75 :\n",
    "    print(\"You are eligible for exam\")\n",
    "else :     \n",
    "    print(\"You are not eligible\")"
   ]
  },
  {
   "cell_type": "code",
   "execution_count": 41,
   "metadata": {},
   "outputs": [
    {
     "name": "stdout",
     "output_type": "stream",
     "text": [
      "Enter side 1 : 63\n",
      "Enter side 2 : 52\n",
      "Enter side 3 : 52\n",
      "Isosceles\n"
     ]
    }
   ],
   "source": [
    "# accepts the three sides of triangle and cheack wether it is an equalatle , isoscaler or scalen an equl a tri in which all three are same a scalen tringle is a tringle that has three anequal sides and isoscalan tringle is tringle with atlitst 2 equal sides\n",
    "\n",
    "side1 = int(input(\"Enter side 1 : \"))\n",
    "side2 = int(input(\"Enter side 2 : \")) \n",
    "side3 = int(input(\"Enter side 3 : \"))\n",
    "\n",
    "if side1 == side2 == side3 : \n",
    "    print(\"Equilateral\")\n",
    "elif side1 == side2 or side2 == side3 or side3== side1 :\n",
    "    print(\"Isosceles\")\n",
    "elif side1 != side2 != side3 :\n",
    "   print(\"Scalene\")"
   ]
  },
  {
   "cell_type": "code",
   "execution_count": 56,
   "metadata": {},
   "outputs": [
    {
     "name": "stdout",
     "output_type": "stream",
     "text": [
      "Enter age : 31\n",
      "Enter gender(M/F) :m\n",
      "Enter days : 10\n",
      "Wage :  8000\n"
     ]
    }
   ],
   "source": [
    "# accept the age gender and number of days and display the wages accroding to it \n",
    "\n",
    "age = int(input('Enter age : '))\n",
    "gender = input('Enter gender(M/F) :')\n",
    "days = int(input('Enter days : '))\n",
    "\n",
    "if age>=18 and age <30 :\n",
    "    if gender == 'M' or gender == 'm' : \n",
    "        print(\"Wage : \" , days*700)\n",
    "    else :\n",
    "          print(\"Wage : \" , days*750)\n",
    "elif age >=30 and age <=40 :\n",
    "      if gender == 'M' or gender == 'm' : \n",
    "        print(\"Wage : \" , days*800)\n",
    "      else :\n",
    "          print(\"Wage : \" , days*850)\n",
    "else :\n",
    "    print(\"Enter appropriate age!!\")"
   ]
  },
  {
   "cell_type": "code",
   "execution_count": 2,
   "metadata": {},
   "outputs": [
    {
     "name": "stdout",
     "output_type": "stream",
     "text": [
      "Enter number 1: 1\n",
      "Enter number 2: 20\n",
      "Enter number 3: 3\n",
      "The total number between  20 and 20  divisible ny  3  is  6\n"
     ]
    }
   ],
   "source": [
    "#wt a program to read 3 numbers and check how many number available between first two numbers are divisble by third number.\n",
    "\n",
    "num1 = int(input(\"Enter number 1: \"))\n",
    "num2 = int(input(\"Enter number 2: \"))\n",
    "num3 = int(input(\"Enter number 3: \"))\n",
    "temp = num1\n",
    "sum = 0;\n",
    "while num1< num2 :\n",
    "    \n",
    "    if num1 % num3 == 0 :\n",
    "        sum = sum+1;\n",
    "        \n",
    "    num1 = num1+1        \n",
    "    \n",
    "print(\"The total number between \",temp ,\"and\",num2,\" divisible ny \",num3 ,\" is \",sum)    "
   ]
  },
  {
   "cell_type": "code",
   "execution_count": 6,
   "metadata": {},
   "outputs": [
    {
     "name": "stdout",
     "output_type": "stream",
     "text": [
      "Enter number : 3\n",
      "Sum :  6 ,Avg :  2.0\n"
     ]
    }
   ],
   "source": [
    "#wt a program to find sum of n number also find avg of them\n",
    "\n",
    "num = int(input(\"Enter number : \"))\n",
    "sum = 0\n",
    "for i in range(num+1):\n",
    "      sum = sum +i\n",
    "        \n",
    "print(\"Sum : \",sum , \",Avg : \" , (sum/num))        "
   ]
  },
  {
   "cell_type": "code",
   "execution_count": 10,
   "metadata": {},
   "outputs": [
    {
     "name": "stdout",
     "output_type": "stream",
     "text": [
      "Enter number : 5\n",
      "5  *  1  =  5\n",
      "5  *  2  =  10\n",
      "5  *  3  =  15\n",
      "5  *  4  =  20\n",
      "5  *  5  =  25\n",
      "5  *  6  =  30\n",
      "5  *  7  =  35\n",
      "5  *  8  =  40\n",
      "5  *  9  =  45\n",
      "5  *  10  =  50\n"
     ]
    }
   ],
   "source": [
    "#wt a program to create a table\n",
    "\n",
    "num = int(input(\"Enter number : \"))\n",
    "\n",
    "for i in range(1,11) :\n",
    "    print(num , \" * \" ,i ,\" = \" ,(num*i))"
   ]
  },
  {
   "cell_type": "code",
   "execution_count": 4,
   "metadata": {},
   "outputs": [
    {
     "name": "stdout",
     "output_type": "stream",
     "text": [
      "Enter number : 2\n",
      "Enter total : 1024\n",
      "Exponant :  10\n"
     ]
    }
   ],
   "source": [
    "#wt a program to find an integer exponant x such that a^x = n \n",
    "\n",
    "num = int(input(\"Enter number : \"))\n",
    "total = int(input(\"Enter total : \"))\n",
    "sum = 1\n",
    "count = num\n",
    "while num!=total :\n",
    "     num = num*count\n",
    "     sum = sum+1\n",
    "print(\"Exponant : \" , sum)        \n",
    "        \n",
    "      "
   ]
  },
  {
   "cell_type": "code",
   "execution_count": 16,
   "metadata": {},
   "outputs": [
    {
     "name": "stdout",
     "output_type": "stream",
     "text": [
      "Enter number : 6\n",
      "Fact =  720\n"
     ]
    }
   ],
   "source": [
    "#wt a program to find the fact of given number\n",
    "num = int(input(\"Enter number : \"))\n",
    "fact = 1\n",
    "\n",
    "if num == 1 or num == 0 :\n",
    "    print(\"Fact : 1\" )\n",
    "elif num<0 :\n",
    "    print(\"Invalid\")\n",
    "else :\n",
    "    for i in range(num,1,-1) :\n",
    "        fact = fact*i\n",
    "    \n",
    "    print(\"Fact = \",fact)\n",
    "\n",
    "   "
   ]
  },
  {
   "cell_type": "code",
   "execution_count": 24,
   "metadata": {},
   "outputs": [
    {
     "name": "stdout",
     "output_type": "stream",
     "text": [
      "Enter number : 5\n",
      "0 1 1 2 3 "
     ]
    }
   ],
   "source": [
    "#wt a program to display fibonaci nth\n",
    "\n",
    "num = int(input(\"Enter number : \"))\n",
    "a =0\n",
    "b = 1\n",
    "c = a+b\n",
    "\n",
    "print(\"0 1\",end =\" \" )\n",
    "\n",
    "for i in range(num-2) :\n",
    "    print(c , end =\" \")\n",
    "    a = b\n",
    "    b =c\n",
    "    c = a+b\n",
    "    "
   ]
  },
  {
   "cell_type": "code",
   "execution_count": 3,
   "metadata": {},
   "outputs": [
    {
     "name": "stdout",
     "output_type": "stream",
     "text": [
      "Enter number 1: 2\n",
      "Enter number 2: 3\n",
      "Enter number 3: 5\n",
      "Enter number 4: 5\n",
      "Enter number 5: 58\n",
      "Enter number 6: 5\n",
      "Enter number 7: 5\n",
      "Enter number 8: 5\n",
      "Enter number 9: 5\n",
      "Enter number 10: 5\n",
      "Sum :  98 ,Avg :  9.8\n"
     ]
    }
   ],
   "source": [
    "#wt a program to take 10 numbers from user and disply thier sum and avg\n",
    "sum = 0\n",
    "for i in range(10) :\n",
    "    x = int(input(f\"Enter number {i+1}: \"))\n",
    "    sum = sum + x\n",
    "print(\"Sum : \" , sum , \",Avg : \", (sum/10))    \n",
    "    "
   ]
  },
  {
   "cell_type": "code",
   "execution_count": 6,
   "metadata": {},
   "outputs": [
    {
     "name": "stdout",
     "output_type": "stream",
     "text": [
      "Enter number 1: 1\n",
      "Enter number 2: 3\n",
      "Enter number 3: 2\n",
      "Enter number 4: 4\n",
      "Enter number 5: 5\n",
      "Enter number 6: 6\n",
      "Enter number 7: 7\n",
      "Enter number 8: 8\n",
      "Enter number 9: 9\n",
      "Enter number 10: 10\n",
      "Even sum :  30\n",
      "Even count :  5\n",
      "ODD sum:  25\n",
      "ODD count :  5\n"
     ]
    }
   ],
   "source": [
    "#wt a program to count total odd and even number and also do the sum of them\n",
    "\n",
    "sumeven= 0\n",
    "sumodd =0\n",
    "oddc =0\n",
    "evenc = 0\n",
    "for i in range(10) :\n",
    "    x = int(input(f\"Enter number {i+1}: \"))\n",
    "    if x % 2 == 0 :\n",
    "        sumeven = sumeven + x\n",
    "        evenc +=1\n",
    "    else : \n",
    "        sumodd = sumodd + x\n",
    "        oddc +=1\n",
    " \n",
    "\n",
    "\n",
    "print(\"Even sum : \" , sumeven)\n",
    "print(\"Even count : \" , evenc)\n",
    "print(\"ODD sum: \" , sumodd)\n",
    "print(\"ODD count : \" , oddc)"
   ]
  },
  {
   "cell_type": "code",
   "execution_count": 11,
   "metadata": {},
   "outputs": [
    {
     "name": "stdout",
     "output_type": "stream",
     "text": [
      "Enter number 1: 1\n",
      "Enter number 2: 1\n",
      "Enter number 3: 1\n",
      "Enter number 4: 1\n",
      "Enter number 5: 1\n",
      "Enter number 6: 1\n",
      "Enter number 7: -5\n",
      "Enter number 8: -52\n",
      "Enter number 9: -744\n",
      "Enter number 10: -78\n",
      "Sum :  6\n"
     ]
    }
   ],
   "source": [
    "#to print posotive\n",
    "\n",
    "sum = 0\n",
    "for i in range(10) :\n",
    "    x = int(input(f\"Enter number {i+1}: \"))\n",
    "    if x > 0 :\n",
    "        sum = sum + x\n",
    "print(\"Sum : \" , sum )    \n",
    " "
   ]
  },
  {
   "cell_type": "code",
   "execution_count": 17,
   "metadata": {},
   "outputs": [
    {
     "name": "stdout",
     "output_type": "stream",
     "text": [
      "Enter number : 458\n",
      "Reverse 854\n",
      "Not a pelin.\n"
     ]
    }
   ],
   "source": [
    "#wt a program to find reverse number of the number provided by user\n",
    "\n",
    "num = int(input(\"Enter number : \"))\n",
    "n = num\n",
    "temp =0\n",
    "rem = 0\n",
    "while num>0 :\n",
    "         rem = num % 10\n",
    "         temp = (temp*10) +(rem)\n",
    "         num = num //10\n",
    "        \n",
    "print(\"Reverse\" , temp)     \n",
    "if n == temp :\n",
    "    print(\"Pelindrome!!\")\n",
    "else :\n",
    "    print(\"Not a pelin.\")"
   ]
  },
  {
   "cell_type": "code",
   "execution_count": 29,
   "metadata": {},
   "outputs": [
    {
     "name": "stdout",
     "output_type": "stream",
     "text": [
      "Enter number : 1634\n",
      "amstrong\n"
     ]
    }
   ],
   "source": [
    "# wt a program to check given number is amstrong or not \n",
    "\n",
    "num = int(input(\"Enter number : \"))\n",
    "sum = 0\n",
    "temp = num\n",
    "number = num\n",
    "digit = 0\n",
    "while number>0 :\n",
    "    number= number //10\n",
    "    digit += 1\n",
    "\n",
    "    \n",
    "while num>0 :\n",
    "         rem = num % 10\n",
    "         sum = sum + (rem**digit)\n",
    "         num = num //10\n",
    "     \n",
    "if temp == sum :\n",
    "    print(\"amstrong\")\n",
    "else :\n",
    "    print(\"not\")"
   ]
  },
  {
   "cell_type": "code",
   "execution_count": 49,
   "metadata": {},
   "outputs": [
    {
     "name": "stdout",
     "output_type": "stream",
     "text": [
      "Enter start number : 1\n",
      "Enter end number : 10\n",
      "2 3 5 7 "
     ]
    }
   ],
   "source": [
    "#wt a program to see given number is prime or not\n",
    "\n",
    "num1 = int(input(\"Enter start number : \"))\n",
    "num2 = int(input(\"Enter end number : \"))\n",
    "count = 0\n",
    "\n",
    "for i in range(num1 , num2+1) :\n",
    "    count = 0\n",
    "    for j in range(1,i+1):\n",
    "        if  i % j == 0 :\n",
    "            count += 1\n",
    "        \n",
    "    if count == 2 :\n",
    "        print(i, end= \" \")\n",
    "    \n",
    "  "
   ]
  },
  {
   "cell_type": "code",
   "execution_count": 2,
   "metadata": {},
   "outputs": [
    {
     "name": "stdout",
     "output_type": "stream",
     "text": [
      "Enter number : 44\n",
      "Happy\n"
     ]
    }
   ],
   "source": [
    "#wt a program to check entered number is happy number or not!\n",
    "\n",
    "num = int(input(\"Enter number : \"))\n",
    "sum = num\n",
    "\n",
    "while sum!= 1:\n",
    "    temp = sum\n",
    "    sum = 0\n",
    "    \n",
    "    while temp>0 :\n",
    "        pre = temp % 10\n",
    "        sum = sum + (pre*pre)\n",
    "        temp = temp //10\n",
    "\n",
    "    if sum == 4 :\n",
    "        break\n",
    "        \n",
    "if sum == 1 :\n",
    "    print(\"Happy\")\n",
    "else :\n",
    "    print(\"not\")"
   ]
  },
  {
   "cell_type": "code",
   "execution_count": 10,
   "metadata": {},
   "outputs": [
    {
     "name": "stdout",
     "output_type": "stream",
     "text": [
      "Enter start number : 1\n",
      "Enter end number : 45\n",
      "1 Happy number\n",
      "7 Happy number\n",
      "10 Happy number\n",
      "13 Happy number\n",
      "19 Happy number\n",
      "23 Happy number\n",
      "28 Happy number\n",
      "31 Happy number\n",
      "32 Happy number\n",
      "44 Happy number\n"
     ]
    }
   ],
   "source": [
    "#wt a program to find happy number between range\n",
    "\n",
    "\n",
    "num = int(input(\"Enter start number : \"))\n",
    "num2 =  int(input(\"Enter end number : \"))\n",
    "\n",
    "while num<=num2:\n",
    "    sum = num\n",
    "\n",
    "    while sum!= 1:\n",
    "        temp = sum\n",
    "        sum = 0\n",
    "\n",
    "        while temp>0 :\n",
    "            pre = temp % 10\n",
    "            sum = sum + (pre*pre)\n",
    "            temp = temp //10\n",
    "\n",
    "        if sum == 4 :\n",
    "            break\n",
    "\n",
    "    if sum == 1 :\n",
    "        print(num,\"Happy number\")\n",
    "    else :\n",
    "        pass\n",
    "    \n",
    "    num = num +1"
   ]
  },
  {
   "cell_type": "code",
   "execution_count": 16,
   "metadata": {},
   "outputs": [
    {
     "name": "stdout",
     "output_type": "stream",
     "text": [
      "Enter rows : 7\n",
      "* \n",
      "* * \n",
      "* * * \n",
      "* * * * \n",
      "* * * * * \n",
      "* * * * * * \n",
      "* * * * * * * \n"
     ]
    }
   ],
   "source": [
    "# *\n",
    "# **\n",
    "# ***\n",
    "# ****\n",
    "# *****\n",
    "\n",
    "n = int(input(\"Enter rows : \"))\n",
    "for i in range(n) :\n",
    "    for j in range(i+1):\n",
    "        print('*',end=\" \")\n",
    "     \n",
    "    print()"
   ]
  },
  {
   "cell_type": "code",
   "execution_count": 18,
   "metadata": {},
   "outputs": [
    {
     "name": "stdout",
     "output_type": "stream",
     "text": [
      "Enter rows : 5\n",
      "1 \n",
      "2 2 \n",
      "3 3 3 \n",
      "4 4 4 4 \n",
      "5 5 5 5 5 \n"
     ]
    }
   ],
   "source": [
    "# 1\n",
    "# 22\n",
    "# 333\n",
    "# 4444\n",
    "# 55555\n",
    "\n",
    "n = int(input(\"Enter rows : \"))\n",
    "for i in range(1,n+1) :\n",
    "    for j in range(1,i+1):\n",
    "        print(i,end=\" \")\n",
    "     \n",
    "    print()"
   ]
  },
  {
   "cell_type": "code",
   "execution_count": 19,
   "metadata": {},
   "outputs": [
    {
     "name": "stdout",
     "output_type": "stream",
     "text": [
      "Enter rows : 5\n",
      "1 \n",
      "1 2 \n",
      "1 2 3 \n",
      "1 2 3 4 \n",
      "1 2 3 4 5 \n"
     ]
    }
   ],
   "source": [
    "# 1\n",
    "# 12\n",
    "# 123\n",
    "# 1234\n",
    "# 12345\n",
    "\n",
    "\n",
    "n = int(input(\"Enter rows : \"))\n",
    "for i in range(1,n+1) :\n",
    "    for j in range(1,i+1):\n",
    "        print(j,end=\" \")\n",
    "     \n",
    "    print()"
   ]
  },
  {
   "cell_type": "code",
   "execution_count": 22,
   "metadata": {},
   "outputs": [
    {
     "name": "stdout",
     "output_type": "stream",
     "text": [
      "A\n",
      "65\n"
     ]
    }
   ],
   "source": [
    "k = 65\n",
    "print(chr(k))\n",
    "\n",
    "#ORD to convert alphabet to ascii\n",
    "\n",
    "print(ord(\"A\"))"
   ]
  },
  {
   "cell_type": "code",
   "execution_count": 26,
   "metadata": {},
   "outputs": [
    {
     "name": "stdout",
     "output_type": "stream",
     "text": [
      "Enter rows : 5\n",
      "a \n",
      "b c \n",
      "d e f \n",
      "g h i j \n",
      "k l m n o \n"
     ]
    }
   ],
   "source": [
    "# a\n",
    "# bc\n",
    "# def\n",
    "# ghij\n",
    "# klmno\n",
    "\n",
    "\n",
    "n = int(input(\"Enter rows : \"))\n",
    "c = 97\n",
    "for i in range(1,n+1) :\n",
    "    for j in range(1,i+1):\n",
    "       \n",
    "        print(chr(c),end=\" \")\n",
    "        c =c+1\n",
    "     \n",
    "    print()"
   ]
  },
  {
   "cell_type": "code",
   "execution_count": 32,
   "metadata": {},
   "outputs": [
    {
     "name": "stdout",
     "output_type": "stream",
     "text": [
      "Enter rows : 6\n",
      "A \n",
      "A B \n",
      "A B C \n",
      "A B C D \n",
      "A B C D E \n",
      "A B C D E F \n"
     ]
    }
   ],
   "source": [
    "# A \n",
    "# A B \n",
    "# A B C \n",
    "# A B C D \n",
    "# A B C D E \n",
    "\n",
    "n = int(input(\"Enter rows : \"))\n",
    "\n",
    "for i in range(1,n+1) :\n",
    "    c = 65\n",
    "    for j in range(1,i+1):\n",
    "        print(chr(c),end=\" \")\n",
    "        c =c+1\n",
    "     \n",
    "    print()"
   ]
  },
  {
   "cell_type": "code",
   "execution_count": 38,
   "metadata": {},
   "outputs": [
    {
     "name": "stdout",
     "output_type": "stream",
     "text": [
      "Enter rows : 5\n",
      "1 2 3 4 5 \n",
      "1 2 3 4 \n",
      "1 2 3 \n",
      "1 2 \n",
      "1 \n"
     ]
    }
   ],
   "source": [
    "n = int(input(\"Enter rows : \"))\n",
    "\n",
    "for i in range(n,0,-1) :\n",
    "    \n",
    "    for j in range(1,i+1):\n",
    "        print(j,end=\" \")\n",
    "        \n",
    "     \n",
    "    print()\n",
    "    \n",
    "    \n",
    "    \n",
    "## orrr\n",
    "\n",
    "#     for i in range(1,n+1) :\n",
    "#     c = 65\n",
    "#     for j in range(1,n+2-i):\n",
    "#         print(chr(c),end=\" \")\n",
    "#         c =c+1\n",
    "     \n",
    "#     print()\n",
    " "
   ]
  },
  {
   "cell_type": "code",
   "execution_count": 42,
   "metadata": {},
   "outputs": [
    {
     "name": "stdout",
     "output_type": "stream",
     "text": [
      "Enter column number : 5\n",
      "* \n",
      "# # \n",
      "* * * \n",
      "# # # # \n",
      "* * * * * \n"
     ]
    }
   ],
   "source": [
    "# *\n",
    "# ##\n",
    "# ***\n",
    "# ####\n",
    "# *****\n",
    "\n",
    "n = int(input(\"Enter column number : \"))\n",
    "\n",
    "for i in range(1,n+1) : \n",
    "    \n",
    "      for j in range(1,i+1):\n",
    "        if i % 2 == 0 :\n",
    "            print('#',end=\" \")\n",
    "        else :\n",
    "            print('*',end = \" \")\n",
    "            \n",
    "      print()      "
   ]
  },
  {
   "cell_type": "code",
   "execution_count": 48,
   "metadata": {},
   "outputs": [
    {
     "name": "stdout",
     "output_type": "stream",
     "text": [
      "Enter rows : 5\n",
      "1\n",
      "01\n",
      "101\n",
      "0101\n",
      "10101\n"
     ]
    }
   ],
   "source": [
    "# 1\n",
    "# 01\n",
    "# 101\n",
    "# 0101\n",
    "# 10101\n",
    "\n",
    "n = int(input(\"Enter rows : \"))\n",
    "for i in range(1,n+1) :\n",
    "\n",
    "    for j in range(1,i+1):\n",
    "        \n",
    "        if (i+j) % 2 != 0:\n",
    "            p = 0\n",
    "        else :\n",
    "            p =1\n",
    "        print(p,end=\"\")\n",
    "    \n",
    "            \n",
    "     \n",
    "    print()"
   ]
  },
  {
   "cell_type": "code",
   "execution_count": 61,
   "metadata": {},
   "outputs": [
    {
     "name": "stdout",
     "output_type": "stream",
     "text": [
      "Enter rows : 5\n",
      "  * * * * * \n",
      "    * * * * \n",
      "      * * * \n",
      "        * * \n",
      "          * \n"
     ]
    }
   ],
   "source": [
    "# *****\n",
    "#  ****\n",
    "#   ***\n",
    "#    **\n",
    "#     *\n",
    "\n",
    "\n",
    "n = int(input(\"Enter rows : \"))\n",
    "for i in range(1,n+1) :\n",
    "    for j in range(1,i+1):\n",
    "        print(\" \",end=\" \")\n",
    "    \n",
    "    for k in range(i,n+1) :\n",
    "        print(\"*\", end = \" \")\n",
    "    print()"
   ]
  },
  {
   "cell_type": "code",
   "execution_count": null,
   "metadata": {},
   "outputs": [],
   "source": [
    "#  * * * * * \n",
    "#   * * * * \n",
    "#    * * * \n",
    "#     * * \n",
    "#      * \n",
    "\n",
    "\n",
    "n = int(input(\"Enter rows : \"))\n",
    "for i in range(1,n+1) :\n",
    "    for j in range(1,i+1):\n",
    "        print(\" \",end=\"\")\n",
    "    \n",
    "    for k in range(i,n+1) :\n",
    "        print(\"*\", end = \" \")\n",
    "    print()"
   ]
  },
  {
   "cell_type": "code",
   "execution_count": 73,
   "metadata": {},
   "outputs": [
    {
     "name": "stdout",
     "output_type": "stream",
     "text": [
      "Enter rows : 5\n",
      "     * \n",
      "    * * \n",
      "   * * * \n",
      "  * * * * \n",
      " * * * * * \n"
     ]
    }
   ],
   "source": [
    "#      * \n",
    "#     * * \n",
    "#    * * * \n",
    "#   * * * * \n",
    "#  * * * * * \n",
    "\n",
    "n = int(input(\"Enter rows : \"))\n",
    "for i in range(1,n+1) :\n",
    "    for j in range(1,n+2-i):\n",
    "        print(\" \",end=\"\")\n",
    "    \n",
    "    for k in range(1,i+1) :\n",
    "        print(\"*\", end = \" \")\n",
    "        \n",
    "    for j in range(1,i+1):\n",
    "        print(\"\",end=\"\")\n",
    "    \n",
    "    print()"
   ]
  },
  {
   "cell_type": "code",
   "execution_count": 77,
   "metadata": {},
   "outputs": [
    {
     "name": "stdout",
     "output_type": "stream",
     "text": [
      "Enter rows : 5\n",
      "     1 \n",
      "    A B \n",
      "   1 2 3 \n",
      "  A B C D \n",
      " 1 2 3 4 5 \n"
     ]
    }
   ],
   "source": [
    "#      1 \n",
    "#     A B \n",
    "#    1 2 3 \n",
    "#   A B C D \n",
    "#  1 2 3 4 5 \n",
    "\n",
    "n = int(input(\"Enter rows : \"))\n",
    "\n",
    "for i in range(1,n+1) :\n",
    "    c = 65\n",
    "    for j in range(1,n+2-i):\n",
    "        print(\" \",end=\"\")\n",
    "    \n",
    "    for k in range(1,i+1) :\n",
    "        if i% 2 == 0 :\n",
    "            print(chr(c),end =\" \")\n",
    "            c= c+1\n",
    "        else :   \n",
    "            print(k, end = \" \")\n",
    "        \n",
    "    for j in range(1,i+1):\n",
    "        print(\"\",end=\"\")\n",
    "    \n",
    "    print()"
   ]
  }
 ],
 "metadata": {
  "kernelspec": {
   "display_name": "Python 3",
   "language": "python",
   "name": "python3"
  },
  "language_info": {
   "codemirror_mode": {
    "name": "ipython",
    "version": 3
   },
   "file_extension": ".py",
   "mimetype": "text/x-python",
   "name": "python",
   "nbconvert_exporter": "python",
   "pygments_lexer": "ipython3",
   "version": "3.8.5"
  }
 },
 "nbformat": 4,
 "nbformat_minor": 4
}
